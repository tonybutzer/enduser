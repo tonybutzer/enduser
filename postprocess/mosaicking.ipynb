{
 "cells": [
  {
   "cell_type": "markdown",
   "metadata": {},
   "source": [
    "## Mosaicking"
   ]
  },
  {
   "cell_type": "code",
   "execution_count": null,
   "metadata": {},
   "outputs": [],
   "source": [
    "import os\n",
    "from time import time\n",
    "import xarray as xr\n",
    "import rioxarray\n",
    "import rasterio"
   ]
  },
  {
   "cell_type": "markdown",
   "metadata": {},
   "source": [
    "#### Function of mosaicking"
   ]
  },
  {
   "cell_type": "code",
   "execution_count": null,
   "metadata": {},
   "outputs": [],
   "source": [
    "def xr_build_mosaic_ds(tifs, product='band'):\n",
    "    start = time()\n",
    "    my_da_list = []\n",
    "    topleft_affine = None\n",
    "    for i, tif in enumerate(tifs):\n",
    "        da = xr.open_rasterio(tif)\n",
    "        da = da.squeeze().drop(labels='band')\n",
    "        da.name = product\n",
    "        my_da_list.append(da)\n",
    "        tnow = time()\n",
    "        elapsed = tnow - start\n",
    "        print(tif, elapsed)\n",
    "    ds = xr.merge(my_da_list)\n",
    "    return ds\n",
    "\n",
    "def xr_write_geotiff_from_ds(ds, out_path):\n",
    "    print(ds)\n",
    "    print(f'OUTPUT=={out_path}')\n",
    "    ds.rio.to_raster(out_path)\n"
   ]
  },
  {
   "cell_type": "code",
   "execution_count": null,
   "metadata": {},
   "outputs": [],
   "source": [
    " "
   ]
  },
  {
   "cell_type": "code",
   "execution_count": null,
   "metadata": {},
   "outputs": [],
   "source": []
  }
 ],
 "metadata": {
  "kernelspec": {
   "display_name": "Python 3",
   "language": "python",
   "name": "python3"
  },
  "language_info": {
   "codemirror_mode": {
    "name": "ipython",
    "version": 3
   },
   "file_extension": ".py",
   "mimetype": "text/x-python",
   "name": "python",
   "nbconvert_exporter": "python",
   "pygments_lexer": "ipython3",
   "version": "3.7.3"
  }
 },
 "nbformat": 4,
 "nbformat_minor": 4
}
