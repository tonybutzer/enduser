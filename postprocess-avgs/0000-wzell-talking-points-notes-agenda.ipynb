{
 "cells": [
  {
   "cell_type": "markdown",
   "metadata": {},
   "source": [
    "# Maybe start the downloads now"
   ]
  },
  {
   "cell_type": "markdown",
   "metadata": {},
   "source": [
    "-\n",
    "http://10.12.68.246/user/wzell/tree/opt/enduser/postprocess/tarballs_wzell"
   ]
  },
  {
   "cell_type": "markdown",
   "metadata": {},
   "source": [
    "compute avg using nanmean\n",
    "\n",
    "\n",
    "http://10.12.68.246/user/wzell/notebooks/opt/enduser/postprocess/00-etasw-and-things-daily-to-monthly-averging.ipynb\n",
    "\n"
   ]
  },
  {
   "cell_type": "markdown",
   "metadata": {},
   "source": [
    "# Talking Points\n",
    "\n",
    "- What if all of your data was available at your fingertips?\n",
    "    - What if you could directly hug your pixels?\n",
    "    - What if someone else did all that damn data wrangling?\n",
    "    - https://registry.opendata.aws/sentinel-2-l2a-cogs/\n",
    "\n",
    "- What if you could spin up as much compute you needed on-demand?\n",
    "    - What if you didn't have to schedule the time?\n",
    "    - What if you didn't have to go through the lengthy procurement process?\n",
    "    - What if you could customize the hardware to fit your needs ane even change your mind half way thru?\n",
    "    \n",
    "\n",
    "## Key Technologies\n",
    "\n",
    "- python\n",
    "- jupyter\n",
    "- cloud\n",
    "    - object storage - simple, scalable storage (S3)\n",
    "    - elastic compute\n",
    "    - software defined networks\n",
    "- communities - PANGEO\n",
    "- shared public data - Sentinel, Landsat, MODIS, MACA-stuff, Soils, Weather Stuff or is it Climate Stuff\n",
    "    - pre-wrangled and optimized for modeling\n",
    "- XARRAY, XARRAY, XARRAY\n",
    "- open source ...\n",
    "- git and github\n",
    "-\n",
    "    \n",
    "## Enabling the Scientist to Accellerate Science\n",
    "- real time training bootcamps\n",
    "- immediate visualizations and exploitation\n",
    "\n",
    "## Why the mini-pangeo++\n",
    "1. allowed sharing with outside collaborators\n",
    "    - the aussies\n",
    "    - NPS and NPS contractors\n",
    "    - University folk - like Darin Schulte\n",
    "    - give people access with little bureaucratic process\n",
    "2. Allowed augmented capabilities beyond just PANGEO Notebooks\n",
    "    - docker containers\n",
    "    - our own bucket for inputs and outputs\n",
    "        - the ability to ingress and egress data to this bucket\n",
    "\n",
    "\n",
    "### End of sales pitch - begin practical\n",
    "\n",
    "1. run the notebooks backwards\n",
    "    - 99-junkbox-display\n",
    "    - creation of the tarballs\n",
    "2. Data xfer from Cloud_VegET to Zell's system(s)\n",
    "    - from jupyter - pointee clickee\n",
    "    - using scp\n",
    "        - keys, keys, keys\n",
    "    - linux experience?\n",
    "    \n",
    "    \n",
    "### Code\n",
    "- prototype in jupyter and pycharm\n",
    "- operate in docker\n",
    "    - docker is way cool and removes some of the coding hell scenarios\n",
    "    - docker isolates your code\n",
    "    - docker scales easily\n",
    "    - docker containers can be orchestrated in complex ways\n",
    "    - docker enables portability across whatever platform you want to run - HPC, clusters ..."
   ]
  },
  {
   "cell_type": "markdown",
   "metadata": {},
   "source": [
    "![cartoon](../assets/veget-cloud-cartoon.PNG)"
   ]
  },
  {
   "cell_type": "code",
   "execution_count": 10,
   "metadata": {},
   "outputs": [
    {
     "name": "stdout",
     "output_type": "stream",
     "text": [
      "                           PRE 1950/\r\n",
      "                           PRE 1951/\r\n",
      "                           PRE 1952/\r\n",
      "                           PRE 1953/\r\n",
      "                           PRE 1954/\r\n",
      "                           PRE 1955/\r\n",
      "                           PRE 1956/\r\n",
      "                           PRE 1957/\r\n",
      "                           PRE 1958/\r\n",
      "                           PRE 1959/\r\n",
      "                           PRE 1960/\r\n",
      "                           PRE 1961/\r\n",
      "                           PRE 1962/\r\n",
      "                           PRE 1963/\r\n",
      "                           PRE 1964/\r\n",
      "                           PRE 1965/\r\n",
      "                           PRE 1966/\r\n",
      "                           PRE 1967/\r\n",
      "                           PRE 1968/\r\n",
      "                           PRE 1969/\r\n",
      "                           PRE 1970/\r\n",
      "                           PRE 1971/\r\n",
      "                           PRE 1972/\r\n",
      "                           PRE 1973/\r\n",
      "                           PRE 1974/\r\n",
      "                           PRE 1975/\r\n",
      "                           PRE 1976/\r\n",
      "                           PRE 1977/\r\n",
      "                           PRE 1978/\r\n",
      "                           PRE 1979/\r\n",
      "                           PRE 1980/\r\n",
      "                           PRE 1981/\r\n",
      "                           PRE 1982/\r\n",
      "                           PRE 1983/\r\n",
      "                           PRE 1984/\r\n",
      "                           PRE 1985/\r\n",
      "                           PRE 1986/\r\n",
      "                           PRE 1987/\r\n",
      "                           PRE 1988/\r\n",
      "                           PRE 1989/\r\n",
      "                           PRE 1990/\r\n",
      "                           PRE 1991/\r\n",
      "                           PRE 1992/\r\n",
      "                           PRE 1993/\r\n",
      "                           PRE 1994/\r\n",
      "                           PRE 1995/\r\n",
      "                           PRE 1996/\r\n",
      "                           PRE 1997/\r\n",
      "                           PRE 1998/\r\n",
      "                           PRE Annual/\r\n"
     ]
    }
   ],
   "source": [
    "! aws s3 ls dev-et-data/out/DelawareRiverBasin/Run10_07_2020/run_drb150_funrun_chip39.84N-73.72E_o/"
   ]
  },
  {
   "cell_type": "markdown",
   "metadata": {},
   "source": [
    "```\n",
    "ubuntu@ip-10-12-68-246:~$ docker ps | awk '{print $2 \" \" $3 \" \"$4\" \" $5 $6 $7\"--\" $11}'\n",
    "ID IMAGE COMMAND CREATEDSTATUSPORTS--\n",
    "tbutzer/drb150_funrun \"python3 api_veget.p…\" 21hoursago--laughing_herschel\n",
    "tbutzer/drb150_funrun \"python3 api_veget.p…\" 21hoursago--affectionate_mcclintock\n",
    "tbutzer/drb150_funrun \"python3 api_veget.p…\" 21hoursago--hopeful_cray\n",
    "tbutzer/drb150_funrun \"python3 api_veget.p…\" 21hoursago--blissful_dewdney\n",
    "tbutzer/drb150_funrun \"python3 api_veget.p…\" 21hoursago--recursing_thompson\n",
    "tbutzer/drb150_funrun \"python3 api_veget.p…\" 21hoursago--laughing_galois\n",
    "tbutzer/drb150_funrun \"python3 api_veget.p…\" 21hoursago--adoring_khayyam\n",
    "tbutzer/drb150_funrun \"python3 api_veget.p…\" 21hoursago--wizardly_northcutt\n",
    "tbutzer/drb150_funrun \"python3 api_veget.p…\" 21hoursago--stoic_ptolemy\n",
    "tbutzer/drb150_funrun \"python3 api_veget.p…\" 21hoursago--sweet_tharp\n",
    "tbutzer/drb150_funrun \"python3 api_veget.p…\" 21hoursago--xenodochial_wescoff\n",
    "tbutzer/drb150_funrun \"python3 api_veget.p…\" 21hoursago--silly_northcutt\n",
    "```"
   ]
  },
  {
   "cell_type": "code",
   "execution_count": 2,
   "metadata": {},
   "outputs": [
    {
     "name": "stdout",
     "output_type": "stream",
     "text": [
      "Architecture:        x86_64\r\n",
      "CPU op-mode(s):      32-bit, 64-bit\r\n",
      "Byte Order:          Little Endian\r\n",
      "CPU(s):              8\r\n",
      "On-line CPU(s) list: 0-7\r\n",
      "Thread(s) per core:  2\r\n",
      "Core(s) per socket:  4\r\n",
      "Socket(s):           1\r\n",
      "NUMA node(s):        1\r\n",
      "Vendor ID:           AuthenticAMD\r\n",
      "CPU family:          23\r\n",
      "Model:               1\r\n",
      "Model name:          AMD EPYC 7571\r\n",
      "Stepping:            2\r\n",
      "CPU MHz:             2199.998\r\n",
      "BogoMIPS:            4399.99\r\n",
      "Hypervisor vendor:   KVM\r\n",
      "Virtualization type: full\r\n",
      "L1d cache:           32K\r\n",
      "L1i cache:           64K\r\n",
      "L2 cache:            512K\r\n",
      "L3 cache:            8192K\r\n",
      "NUMA node0 CPU(s):   0-7\r\n",
      "Flags:               fpu vme de pse tsc msr pae mce cx8 apic sep mtrr pge mca cmov pat pse36 clflush mmx fxsr sse sse2 ht syscall nx mmxext fxsr_opt pdpe1gb rdtscp lm constant_tsc rep_good nopl nonstop_tsc cpuid extd_apicid tsc_known_freq pni pclmulqdq ssse3 fma cx16 sse4_1 sse4_2 movbe popcnt aes xsave avx f16c rdrand hypervisor lahf_lm cmp_legacy cr8_legacy abm sse4a misalignsse 3dnowprefetch topoext vmmcall fsgsbase bmi1 avx2 smep bmi2 rdseed adx smap clflushopt sha_ni xsaveopt xsavec xgetbv1 clzero xsaveerptr arat npt nrip_save\r\n"
     ]
    }
   ],
   "source": [
    "! lscpu"
   ]
  },
  {
   "cell_type": "code",
   "execution_count": 3,
   "metadata": {},
   "outputs": [
    {
     "name": "stdout",
     "output_type": "stream",
     "text": [
      "NAME        MAJ:MIN RM  SIZE RO TYPE MOUNTPOINT\r\n",
      "loop0         7:0    0 96.6M  1 loop /snap/core/9804\r\n",
      "loop1         7:1    0   18M  1 loop /snap/amazon-ssm-agent/1480\r\n",
      "loop2         7:2    0 97.1M  1 loop /snap/core/9993\r\n",
      "loop3         7:3    0 28.1M  1 loop /snap/amazon-ssm-agent/2012\r\n",
      "nvme0n1     259:0    0  140G  0 disk \r\n",
      "└─nvme0n1p1 259:1    0  140G  0 part /\r\n"
     ]
    }
   ],
   "source": [
    "!lsblk"
   ]
  },
  {
   "cell_type": "code",
   "execution_count": 4,
   "metadata": {},
   "outputs": [
    {
     "name": "stdout",
     "output_type": "stream",
     "text": [
      "              total        used        free      shared  buff/cache   available\r\n",
      "Mem:            31G        7.8G        414M        1.6M         22G         22G\r\n",
      "Swap:            0B          0B          0B\r\n"
     ]
    }
   ],
   "source": [
    "!free -h"
   ]
  },
  {
   "cell_type": "code",
   "execution_count": 8,
   "metadata": {},
   "outputs": [
    {
     "name": "stdout",
     "output_type": "stream",
     "text": [
      "        inet 10.12.68.246  netmask 255.255.254.0  broadcast 10.12.69.255\r\n"
     ]
    }
   ],
   "source": [
    "! ifconfig -a | grep 'inet 10'"
   ]
  },
  {
   "cell_type": "code",
   "execution_count": 9,
   "metadata": {},
   "outputs": [
    {
     "name": "stdout",
     "output_type": "stream",
     "text": [
      " 13:55:43 up 14 days, 20:21,  9 users,  load average: 6.86, 6.55, 6.24\r\n"
     ]
    }
   ],
   "source": [
    "! uptime"
   ]
  },
  {
   "cell_type": "code",
   "execution_count": 11,
   "metadata": {},
   "outputs": [
    {
     "name": "stdout",
     "output_type": "stream",
     "text": [
      "Filesystem      Size  Used Avail Use% Mounted on\r\n",
      "/dev/nvme0n1p1  136G   93G   44G  68% /\r\n"
     ]
    }
   ],
   "source": [
    "! df -h ."
   ]
  },
  {
   "cell_type": "code",
   "execution_count": null,
   "metadata": {},
   "outputs": [],
   "source": []
  }
 ],
 "metadata": {
  "kernelspec": {
   "display_name": "Python 3",
   "language": "python",
   "name": "python3"
  },
  "language_info": {
   "codemirror_mode": {
    "name": "ipython",
    "version": 3
   },
   "file_extension": ".py",
   "mimetype": "text/x-python",
   "name": "python",
   "nbconvert_exporter": "python",
   "pygments_lexer": "ipython3",
   "version": "3.7.3"
  }
 },
 "nbformat": 4,
 "nbformat_minor": 4
}
