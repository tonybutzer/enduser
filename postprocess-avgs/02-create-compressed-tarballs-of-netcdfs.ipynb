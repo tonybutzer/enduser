{
 "cells": [
  {
   "cell_type": "code",
   "execution_count": 1,
   "metadata": {},
   "outputs": [
    {
     "name": "stdout",
     "output_type": "stream",
     "text": [
      "00-dd-daily-to-monthly-averging.ipynb\r\n",
      "00-etasw-and-things-daily-to-monthly-averging.ipynb\r\n",
      "00-ppt-daily-to-monthly.ipynb\r\n",
      "01-etasw_-srf_-create-netcdfs.ipynb\r\n",
      "01-ppt-create-netcdfs.ipynb\r\n",
      "02-create-compressed-tarballs-of-netcdfs.ipynb\r\n",
      "99-junkbox-display.ipynb\r\n",
      "junkbox\r\n",
      "nc_wzell\r\n",
      "other_fun_schitt\r\n"
     ]
    }
   ],
   "source": [
    "! ls "
   ]
  },
  {
   "cell_type": "code",
   "execution_count": 2,
   "metadata": {},
   "outputs": [
    {
     "name": "stdout",
     "output_type": "stream",
     "text": [
      "etasw_avg_2003.nc  etasw_avg_2013.nc  ppt_avg_2010.nc  srf_avg_2007.nc\r\n",
      "etasw_avg_2004.nc  etasw_avg_2014.nc  ppt_avg_2011.nc  srf_avg_2008.nc\r\n",
      "etasw_avg_2005.nc  etasw_avg_2015.nc  ppt_avg_2012.nc  srf_avg_2009.nc\r\n",
      "etasw_avg_2006.nc  ppt_avg_2003.nc    ppt_avg_2013.nc  srf_avg_2010.nc\r\n",
      "etasw_avg_2007.nc  ppt_avg_2004.nc    ppt_avg_2014.nc  srf_avg_2011.nc\r\n",
      "etasw_avg_2008.nc  ppt_avg_2005.nc    ppt_avg_2015.nc  srf_avg_2012.nc\r\n",
      "etasw_avg_2009.nc  ppt_avg_2006.nc    srf_avg_2003.nc  srf_avg_2013.nc\r\n",
      "etasw_avg_2010.nc  ppt_avg_2007.nc    srf_avg_2004.nc  srf_avg_2014.nc\r\n",
      "etasw_avg_2011.nc  ppt_avg_2008.nc    srf_avg_2005.nc  srf_avg_2015.nc\r\n",
      "etasw_avg_2012.nc  ppt_avg_2009.nc    srf_avg_2006.nc\r\n"
     ]
    }
   ],
   "source": [
    "! ls nc_wzell"
   ]
  },
  {
   "cell_type": "code",
   "execution_count": 3,
   "metadata": {},
   "outputs": [],
   "source": [
    "! mkdir -p ./tarballs_wzell"
   ]
  },
  {
   "cell_type": "code",
   "execution_count": 5,
   "metadata": {},
   "outputs": [
    {
     "name": "stdout",
     "output_type": "stream",
     "text": [
      "./nc_wzell/etasw_avg_2003.nc\n",
      "./nc_wzell/etasw_avg_2004.nc\n",
      "./nc_wzell/etasw_avg_2005.nc\n",
      "./nc_wzell/etasw_avg_2006.nc\n",
      "./nc_wzell/etasw_avg_2007.nc\n",
      "./nc_wzell/etasw_avg_2008.nc\n",
      "./nc_wzell/etasw_avg_2009.nc\n",
      "./nc_wzell/etasw_avg_2010.nc\n",
      "./nc_wzell/etasw_avg_2011.nc\n",
      "./nc_wzell/etasw_avg_2012.nc\n",
      "./nc_wzell/etasw_avg_2013.nc\n",
      "./nc_wzell/etasw_avg_2014.nc\n",
      "./nc_wzell/etasw_avg_2015.nc\n"
     ]
    }
   ],
   "source": [
    "! tar cvfz ./tarballs_wzell/etasw_nc.tgz ./nc_wzell/etasw*"
   ]
  },
  {
   "cell_type": "code",
   "execution_count": 6,
   "metadata": {},
   "outputs": [
    {
     "name": "stdout",
     "output_type": "stream",
     "text": [
      "./nc_wzell/srf_avg_2003.nc\n",
      "./nc_wzell/srf_avg_2004.nc\n",
      "./nc_wzell/srf_avg_2005.nc\n",
      "./nc_wzell/srf_avg_2006.nc\n",
      "./nc_wzell/srf_avg_2007.nc\n",
      "./nc_wzell/srf_avg_2008.nc\n",
      "./nc_wzell/srf_avg_2009.nc\n",
      "./nc_wzell/srf_avg_2010.nc\n",
      "./nc_wzell/srf_avg_2011.nc\n",
      "./nc_wzell/srf_avg_2012.nc\n",
      "./nc_wzell/srf_avg_2013.nc\n",
      "./nc_wzell/srf_avg_2014.nc\n",
      "./nc_wzell/srf_avg_2015.nc\n"
     ]
    }
   ],
   "source": [
    "! tar cvfz ./tarballs_wzell/srf_nc.tgz ./nc_wzell/srf*"
   ]
  },
  {
   "cell_type": "code",
   "execution_count": 7,
   "metadata": {},
   "outputs": [
    {
     "name": "stdout",
     "output_type": "stream",
     "text": [
      "./nc_wzell/ppt_avg_2003.nc\n",
      "./nc_wzell/ppt_avg_2004.nc\n",
      "./nc_wzell/ppt_avg_2005.nc\n",
      "./nc_wzell/ppt_avg_2006.nc\n",
      "./nc_wzell/ppt_avg_2007.nc\n",
      "./nc_wzell/ppt_avg_2008.nc\n",
      "./nc_wzell/ppt_avg_2009.nc\n",
      "./nc_wzell/ppt_avg_2010.nc\n",
      "./nc_wzell/ppt_avg_2011.nc\n",
      "./nc_wzell/ppt_avg_2012.nc\n",
      "./nc_wzell/ppt_avg_2013.nc\n",
      "./nc_wzell/ppt_avg_2014.nc\n",
      "./nc_wzell/ppt_avg_2015.nc\n"
     ]
    }
   ],
   "source": [
    "! tar cvfz ./tarballs_wzell/ppt_nc.tgz ./nc_wzell/ppt*"
   ]
  },
  {
   "cell_type": "code",
   "execution_count": 11,
   "metadata": {},
   "outputs": [
    {
     "name": "stdout",
     "output_type": "stream",
     "text": [
      "etasw_avg_2003.nc  etasw_avg_2013.nc  ppt_avg_2010.nc  srf_avg_2007.nc\r\n",
      "etasw_avg_2004.nc  etasw_avg_2014.nc  ppt_avg_2011.nc  srf_avg_2008.nc\r\n",
      "etasw_avg_2005.nc  etasw_avg_2015.nc  ppt_avg_2012.nc  srf_avg_2009.nc\r\n",
      "etasw_avg_2006.nc  ppt_avg_2003.nc    ppt_avg_2013.nc  srf_avg_2010.nc\r\n",
      "etasw_avg_2007.nc  ppt_avg_2004.nc    ppt_avg_2014.nc  srf_avg_2011.nc\r\n",
      "etasw_avg_2008.nc  ppt_avg_2005.nc    ppt_avg_2015.nc  srf_avg_2012.nc\r\n",
      "etasw_avg_2009.nc  ppt_avg_2006.nc    srf_avg_2003.nc  srf_avg_2013.nc\r\n",
      "etasw_avg_2010.nc  ppt_avg_2007.nc    srf_avg_2004.nc  srf_avg_2014.nc\r\n",
      "etasw_avg_2011.nc  ppt_avg_2008.nc    srf_avg_2005.nc  srf_avg_2015.nc\r\n",
      "etasw_avg_2012.nc  ppt_avg_2009.nc    srf_avg_2006.nc\r\n",
      "THANKS FOR SHARING\r\n",
      "total 5.3G\r\n",
      "-rw-r--r-- 1 jupyter-wzell jupyter-wzell 3.5G Oct  8 12:29 etasw_nc.tgz\r\n",
      "-rw-r--r-- 1 jupyter-wzell jupyter-wzell 4.1M Oct  8 12:58 ppt_nc.tgz\r\n",
      "-rw-r--r-- 1 jupyter-wzell jupyter-wzell 1.9G Oct  8 12:58 srf_nc.tgz\r\n"
     ]
    }
   ],
   "source": [
    "!ls nc_wzell ; echo THANKS FOR SHARING; ls -lh tarballs_wzell"
   ]
  },
  {
   "cell_type": "markdown",
   "metadata": {},
   "source": [
    "# Lets iterate on this data and improve it in everyway.\n",
    "\n",
    "- for example - these tarballs of averages were smaller than the tarballs of the sums"
   ]
  },
  {
   "cell_type": "code",
   "execution_count": 14,
   "metadata": {},
   "outputs": [
    {
     "name": "stdout",
     "output_type": "stream",
     "text": [
      "drwxr-xr-x 2 jupyter-wzell jupyter-wzell  32768 Oct  7 12:20 junkbox\r\n",
      "drwxr-xr-x 2 jupyter-wzell jupyter-wzell   4096 Oct  8 12:17 nc_wzell\r\n",
      "drwxr-xr-x 2 jupyter-wzell jupyter-wzell   4096 Oct  6 23:40 other_fun_schitt\r\n",
      "drwxr-xr-x 2 jupyter-wzell jupyter-wzell   4096 Oct  8 12:58 tarballs_wzell\r\n"
     ]
    }
   ],
   "source": [
    "! ls -l | egrep '^d'"
   ]
  },
  {
   "cell_type": "code",
   "execution_count": 2,
   "metadata": {},
   "outputs": [
    {
     "name": "stdout",
     "output_type": "stream",
     "text": [
      "./nc_wzell/dd_avg_2003.nc\n",
      "./nc_wzell/dd_avg_2004.nc\n",
      "./nc_wzell/dd_avg_2005.nc\n",
      "./nc_wzell/dd_avg_2006.nc\n",
      "./nc_wzell/dd_avg_2007.nc\n",
      "./nc_wzell/dd_avg_2008.nc\n",
      "./nc_wzell/dd_avg_2009.nc\n",
      "./nc_wzell/dd_avg_2010.nc\n",
      "./nc_wzell/dd_avg_2011.nc\n",
      "./nc_wzell/dd_avg_2012.nc\n",
      "./nc_wzell/dd_avg_2013.nc\n",
      "./nc_wzell/dd_avg_2014.nc\n",
      "./nc_wzell/dd_avg_2015.nc\n"
     ]
    }
   ],
   "source": [
    "! tar cvfz ./tarballs_wzell/dd_nc.tgz ./nc_wzell/dd*"
   ]
  },
  {
   "cell_type": "code",
   "execution_count": null,
   "metadata": {},
   "outputs": [],
   "source": []
  }
 ],
 "metadata": {
  "kernelspec": {
   "display_name": "Python 3",
   "language": "python",
   "name": "python3"
  },
  "language_info": {
   "codemirror_mode": {
    "name": "ipython",
    "version": 3
   },
   "file_extension": ".py",
   "mimetype": "text/x-python",
   "name": "python",
   "nbconvert_exporter": "python",
   "pygments_lexer": "ipython3",
   "version": "3.7.3"
  }
 },
 "nbformat": 4,
 "nbformat_minor": 4
}
